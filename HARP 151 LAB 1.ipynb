{
 "cells": [
  {
   "cell_type": "code",
   "execution_count": 5,
   "id": "4f98e1dd",
   "metadata": {},
   "outputs": [
    {
     "name": "stdout",
     "output_type": "stream",
     "text": [
      "The longest word is: chestnut\n"
     ]
    }
   ],
   "source": [
    "gdef find_longest(list_of_words):\n",
    "    longest_word = list_of_words[0]\n",
    "    \n",
    "    for word in list_of_words:\n",
    "        if len(longest_word) < len(word):\n",
    "            longest_word = word\n",
    "        \n",
    "    print(f'The longest word is: {longest_word}')\n",
    "\n",
    "list_of_words = \"apple\", \"chestnut\", \"gargoyle\", \"pandas\", \"sheep\", \"raptor\"\n",
    "    \n",
    "find_longest(list_of_words)"
   ]
  },
  {
   "cell_type": "code",
   "execution_count": 4,
   "id": "a0bb7a7b",
   "metadata": {},
   "outputs": [
    {
     "ename": "FileNotFoundError",
     "evalue": "[Errno 2] No such file or directory: 'words.txt'",
     "output_type": "error",
     "traceback": [
      "\u001b[1;31m---------------------------------------------------------------------------\u001b[0m",
      "\u001b[1;31mFileNotFoundError\u001b[0m                         Traceback (most recent call last)",
      "Input \u001b[1;32mIn [4]\u001b[0m, in \u001b[0;36m<cell line: 15>\u001b[1;34m()\u001b[0m\n\u001b[0;32m     12\u001b[0m     \u001b[38;5;28;01mreturn\u001b[39;00m random\u001b[38;5;241m.\u001b[39msample(words, \u001b[38;5;241m7\u001b[39m)\n\u001b[0;32m     14\u001b[0m filename \u001b[38;5;241m=\u001b[39m \u001b[38;5;124m'\u001b[39m\u001b[38;5;124mwordlist.txt\u001b[39m\u001b[38;5;124m'\u001b[39m\n\u001b[1;32m---> 15\u001b[0m random_words \u001b[38;5;241m=\u001b[39m \u001b[43mgenerate_word_list\u001b[49m\u001b[43m(\u001b[49m\u001b[43mfile_name\u001b[49m\u001b[43m)\u001b[49m\n\u001b[0;32m     16\u001b[0m \u001b[38;5;28mprint\u001b[39m(random_words)\n",
      "Input \u001b[1;32mIn [4]\u001b[0m, in \u001b[0;36mgenerate_word_list\u001b[1;34m(filename)\u001b[0m\n\u001b[0;32m      9\u001b[0m \u001b[38;5;28;01mdef\u001b[39;00m \u001b[38;5;21mgenerate_word_list\u001b[39m(filename):\n\u001b[1;32m---> 10\u001b[0m     \u001b[38;5;28;01mwith\u001b[39;00m \u001b[38;5;28;43mopen\u001b[39;49m\u001b[43m(\u001b[49m\u001b[43mfilename\u001b[49m\u001b[43m,\u001b[49m\u001b[43m \u001b[49m\u001b[38;5;124;43m'\u001b[39;49m\u001b[38;5;124;43mr\u001b[39;49m\u001b[38;5;124;43m'\u001b[39;49m\u001b[43m)\u001b[49m \u001b[38;5;28;01mas\u001b[39;00m f:\n\u001b[0;32m     11\u001b[0m         words \u001b[38;5;241m=\u001b[39m f\u001b[38;5;241m.\u001b[39mread()\u001b[38;5;241m.\u001b[39msplit()\n\u001b[0;32m     12\u001b[0m     \u001b[38;5;28;01mreturn\u001b[39;00m random\u001b[38;5;241m.\u001b[39msample(words, \u001b[38;5;241m7\u001b[39m)\n",
      "\u001b[1;31mFileNotFoundError\u001b[0m: [Errno 2] No such file or directory: 'words.txt'"
     ]
    }
   ],
   "source": [
    "import random\n",
    "import numpy as np\n",
    "\n",
    "filename = 'wordlist.txt'\n",
    "\n",
    "data = np.loadtxt(filename, delimiter=',', skiprows=1, dtype=str)\n",
    "\n",
    "\n",
    "def generate_word_list(filename):\n",
    "    with open(filename, 'r') as f:\n",
    "        words = f.read().split()\n",
    "    return random.sample(words, 7)\n",
    "\n",
    "filename = 'wordlist.txt'\n",
    "random_words = generate_word_list(file_name)\n",
    "print(random_words)"
   ]
  },
  {
   "cell_type": "code",
   "execution_count": 9,
   "id": "76df54a9",
   "metadata": {},
   "outputs": [
    {
     "name": "stdout",
     "output_type": "stream",
     "text": [
      "['New York', 'California', 'Utah', 'Alabama']\n",
      "['New York', 'California', 'Utah', 'Alabama', 'New Mexico', 'North Dakota', 'Oklahoma']\n",
      "0\n",
      "['New York', 'California', 'Utah', 'Alabama', 'New Mexico', 'Oklahoma']\n"
     ]
    }
   ],
   "source": [
    "states_of_america = [\"New York\", \"California\", \"Utah\"]\n",
    "more_states = [\"New Mexico\", \"North Dakota\", \"Oklahoma\"]\n",
    "\n",
    "states_of_america.append(\"Alabama\")\n",
    "print(states_of_america)\n",
    "\n",
    "states_of_america.extend(more_states)\n",
    "print(states_of_america)\n",
    "\n",
    "print(states_of_america.index(\"New York\"))\n",
    "\n",
    "states_of_america.remove(\"North Dakota\")\n",
    "print(states_of_america)"
   ]
  },
  {
   "cell_type": "code",
   "execution_count": 1,
   "id": "35dff94c",
   "metadata": {},
   "outputs": [
    {
     "name": "stdout",
     "output_type": "stream",
     "text": [
      "Austin took 42 damage from the enemy!\n",
      "Austin attacked! They did 36 damage!\n",
      "Austin defended the enemy attack! Their health remains at 150.\n"
     ]
    }
   ],
   "source": [
    "# Using OOP, I want you to build one of the following things. As part of the excerise,\n",
    "# please write out your brainstorming process in a comment or markdown cell:\n",
    "# A system to manage a student's school record (would need a way to gather/store personal information,\n",
    "# record grades, record GPA, etc.)\n",
    "# A class that allows you to create your own flashcards & then allows you to review them\n",
    "# (this would work best with language cards - like one word is in Spanish, one in English)\n",
    "# A class (or series of classes) to correspond with a gameplay (for example, a fighter class,\n",
    "# a bard class, a wizard class)\n",
    "\n",
    "# So, before deciding which of the classes to build, I considered each of class's limits. For example, making\n",
    "# flashcards is pretty standard- not much room or desire for creativity or messing around.\n",
    "\n",
    "# making a class that corresponds to gameplay would be pretty cool, and incorporates a good amount of creativity,\n",
    "# so we'll go with that.\n",
    "import random\n",
    "# importing random gives us different results everytime, which would be fun for a game\n",
    "\n",
    "class Warrior: # wanted to make a cool character\n",
    "    def __init__(self, name, health):\n",
    "        self.name = name\n",
    "        self.health = health # name and health of character as parameters would allow some input from user\n",
    "       \n",
    "    def attack(self):\n",
    "        damage = random.randint(1,50)\n",
    "        print(f\"{self.name} attacked! They did {damage} damage!\")\n",
    "       \n",
    "    def defend(self):\n",
    "        print(f\"{self.name} defended the enemy attack! Their health remains at {self.health}.\")\n",
    "   \n",
    "    def take_damage(self):\n",
    "        dmg_taken = random.randint(30,50)\n",
    "        print(f\"{self.name} took {dmg_taken} damage from the enemy!\")\n",
    "       \n",
    "    # 3 basic things I associate with playing a game (as a character, at least)\n",
    "   \n",
    "w1 = Warrior(\"Austin\", 150)\n",
    "w1.take_damage()\n",
    "w1.attack()\n",
    "w1.defend()"
   ]
  },
  {
   "cell_type": "code",
   "execution_count": 2,
   "id": "7f72d818",
   "metadata": {},
   "outputs": [
    {
     "name": "stdout",
     "output_type": "stream",
     "text": [
      "Guess a letter: a\n",
      "Wrong!\n",
      "You have 5 lives left!\n",
      " \n",
      "_ _ _ _\n",
      "Guess a letter: d\n",
      "Wrong!\n",
      "You have 4 lives left!\n",
      " \n",
      "_ _ _ _\n",
      "Guess a letter: k\n",
      "Wrong!\n",
      "You have 3 lives left!\n",
      " \n",
      "_ _ _ _\n",
      "Guess a letter: j\n",
      "Wrong!\n",
      "You have 2 lives left!\n",
      " \n",
      "_ _ _ _\n",
      "Guess a letter: l\n",
      "_ l _ _\n",
      "Guess a letter: o\n",
      "Wrong!\n",
      "You have 1 lives left!\n",
      " \n",
      "_ l _ _\n",
      "Guess a letter: n\n",
      "Wrong!\n",
      "You have 0 lives left!\n",
      " \n",
      "You lose\n",
      "The word was blue!\n",
      "_ l _ _\n"
     ]
    }
   ],
   "source": [
    "import random\n",
    "\n",
    "end_of_game = False\n",
    "word_list = [\n",
    "    \"blue\", \"orange\", \"white\", \"black\", \"orange\", \"brown\", \"green\", \"violet\", \"purple\" ]\n",
    "chosen_word = random.choice(word_list)\n",
    "word_length = len(chosen_word)\n",
    "\n",
    "lives = 6\n",
    "\n",
    "display = []\n",
    "for _ in range(word_length):\n",
    "    display += \"_\"\n",
    "\n",
    "while not end_of_game:\n",
    "    guess = input(\"Guess a letter: \").lower()\n",
    " \n",
    "    for position in range(word_length):\n",
    "        letter = chosen_word[position]\n",
    "        if letter == guess:\n",
    "            display[position] = letter\n",
    "   \n",
    "    if guess not in chosen_word:\n",
    "      lives -= 1\n",
    "      print(\"Wrong!\")\n",
    "      print(f\"You have {lives} lives left!\")\n",
    "      print(\" \")\n",
    "      if lives == 0:\n",
    "          end_of_game = True\n",
    "          print(\"You lose\")\n",
    "          print(f\"The word was {chosen_word}!\")\n",
    "    print(f\"{' '.join(display)}\")\n",
    "\n",
    "\n",
    "    if \"_\" not in display:\n",
    "        end_of_game = True\n",
    "        print(\"You win!\")\n",
    "        print(f\"You had {lives} lives remaining.\")\n"
   ]
  }
 ],
 "metadata": {
  "kernelspec": {
   "display_name": "Python 3 (ipykernel)",
   "language": "python",
   "name": "python3"
  },
  "language_info": {
   "codemirror_mode": {
    "name": "ipython",
    "version": 3
   },
   "file_extension": ".py",
   "mimetype": "text/x-python",
   "name": "python",
   "nbconvert_exporter": "python",
   "pygments_lexer": "ipython3",
   "version": "3.9.12"
  }
 },
 "nbformat": 4,
 "nbformat_minor": 5
}
