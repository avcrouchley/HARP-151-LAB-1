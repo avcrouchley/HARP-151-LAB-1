{
 "cells": [
  {
   "cell_type": "code",
   "execution_count": 1,
   "id": "f5a8db01",
   "metadata": {},
   "outputs": [
    {
     "name": "stdout",
     "output_type": "stream",
     "text": [
      "Requirement already satisfied: selenium in c:\\users\\avcro\\anaconda3\\lib\\site-packages (4.8.2)\n",
      "Requirement already satisfied: trio-websocket~=0.9 in c:\\users\\avcro\\anaconda3\\lib\\site-packages (from selenium) (0.9.2)\n",
      "Requirement already satisfied: certifi>=2021.10.8 in c:\\users\\avcro\\anaconda3\\lib\\site-packages (from selenium) (2021.10.8)\n",
      "Requirement already satisfied: trio~=0.17 in c:\\users\\avcro\\anaconda3\\lib\\site-packages (from selenium) (0.22.0)\n",
      "Requirement already satisfied: urllib3[socks]~=1.26 in c:\\users\\avcro\\anaconda3\\lib\\site-packages (from selenium) (1.26.9)\n",
      "Requirement already satisfied: cffi>=1.14 in c:\\users\\avcro\\anaconda3\\lib\\site-packages (from trio~=0.17->selenium) (1.15.0)\n",
      "Requirement already satisfied: exceptiongroup>=1.0.0rc9 in c:\\users\\avcro\\anaconda3\\lib\\site-packages (from trio~=0.17->selenium) (1.1.0)\n",
      "Requirement already satisfied: sortedcontainers in c:\\users\\avcro\\anaconda3\\lib\\site-packages (from trio~=0.17->selenium) (2.4.0)\n",
      "Requirement already satisfied: attrs>=19.2.0 in c:\\users\\avcro\\anaconda3\\lib\\site-packages (from trio~=0.17->selenium) (21.4.0)\n",
      "Requirement already satisfied: outcome in c:\\users\\avcro\\anaconda3\\lib\\site-packages (from trio~=0.17->selenium) (1.2.0)\n",
      "Requirement already satisfied: idna in c:\\users\\avcro\\anaconda3\\lib\\site-packages (from trio~=0.17->selenium) (3.3)\n",
      "Requirement already satisfied: sniffio in c:\\users\\avcro\\anaconda3\\lib\\site-packages (from trio~=0.17->selenium) (1.2.0)\n",
      "Requirement already satisfied: async-generator>=1.9 in c:\\users\\avcro\\anaconda3\\lib\\site-packages (from trio~=0.17->selenium) (1.10)\n",
      "Requirement already satisfied: pycparser in c:\\users\\avcro\\anaconda3\\lib\\site-packages (from cffi>=1.14->trio~=0.17->selenium) (2.21)\n",
      "Requirement already satisfied: wsproto>=0.14 in c:\\users\\avcro\\anaconda3\\lib\\site-packages (from trio-websocket~=0.9->selenium) (1.2.0)\n",
      "Requirement already satisfied: PySocks!=1.5.7,<2.0,>=1.5.6 in c:\\users\\avcro\\anaconda3\\lib\\site-packages (from urllib3[socks]~=1.26->selenium) (1.7.1)\n",
      "Requirement already satisfied: h11<1,>=0.9.0 in c:\\users\\avcro\\anaconda3\\lib\\site-packages (from wsproto>=0.14->trio-websocket~=0.9->selenium) (0.14.0)\n"
     ]
    }
   ],
   "source": [
    "!pip install selenium"
   ]
  },
  {
   "cell_type": "code",
   "execution_count": 2,
   "id": "7d0a40fb",
   "metadata": {},
   "outputs": [],
   "source": [
    "from selenium import webdriver\n",
    "from selenium.webdriver.common.keys import Keys\n",
    "from selenium.webdriver.common.by import By\n",
    "from selenium.webdriver.support.ui import WebDriverWait\n",
    "from selenium.webdriver.support import expected_conditions as EC\n",
    "from selenium.webdriver.chrome.service import Service\n",
    "import time\n",
    "\n",
    "PATH = Service(\"C:\\Program Files (x86)\\chromedriver.exe\")\n",
    "driver = webdriver.Chrome(service=PATH)\n",
    "\n",
    "driver.get(\"https://techwithtim.net/\")\n",
    "\n",
    "link = driver.find_element(\"link text\", \"Python Programming\") #clicks on the link associated with the text Python Programming\n",
    "link.click()\n",
    "\n",
    "try: #wait up to ten seconds to find a link on the page that has the link text of Beginner Python Tutorials\n",
    "    element = WebDriverWait(driver, 10).until( \n",
    "    EC.presence_of_element_located((By.LINK_TEXT, \"Beginner Python Tutorials\"))\n",
    "        )\n",
    "        #element.clear() clears all of the text already inside the input field\n",
    "    element.click() #to go to the next page, needs to be a link or a button\n",
    "    \n",
    "    element = WebDriverWait(driver, 10).until( \n",
    "    EC.presence_of_element_located((By.ID, \"sow-button-19310003\"))\n",
    "        )\n",
    "    element.click()\n",
    "        \n",
    "    driver.back() #go back to the previous page\n",
    "    driver.back()\n",
    "    driver.back()\n",
    "    driver.foward()\n",
    "    driver.foward()\n",
    "        \n",
    "except: #so the program won't quit unless the code does not work\n",
    "    driver.quit()\n"
   ]
  },
  {
   "cell_type": "code",
   "execution_count": 4,
   "id": "3ceb0c75",
   "metadata": {},
   "outputs": [
    {
     "name": "stdout",
     "output_type": "stream",
     "text": [
      "https://en.wikipedia.org/wiki/File:Cat_August_2010-4.jpg\n",
      "https://en.wikipedia.org/wiki/File:Gustav_chocolate.jpg\n",
      "https://en.wikipedia.org/wiki/File:Orange_tabby_cat_sitting_on_fallen_leaves-Hisashi-01A.jpg\n",
      "https://en.wikipedia.org/wiki/File:Siam_lilacpoint.jpg\n",
      "https://en.wikipedia.org/wiki/File:Felis_catus-cat_on_snow.jpg\n",
      "https://en.wikipedia.org/wiki/File:Sheba1.JPG\n",
      "https://en.wikipedia.org/wiki/File:Louvre_egyptologie_21.jpg\n",
      "https://en.wikipedia.org/wiki/File:Cat_birds_MAN_Napoli_Inv9993.jpg\n",
      "https://en.wikipedia.org/wiki/File:PSM_V37_D105_English_tabby_cat.jpg\n"
     ]
    }
   ],
   "source": [
    "from bs4 import BeautifulSoup\n",
    "from bs4 import BeautifulSoup\n",
    "import requests\n",
    "import html5lib\n",
    "import csv\n",
    "import pandas as pd\n",
    "\n",
    "source = requests.get(\"https://en.wikipedia.org/wiki/Cat\").text\n",
    "soup = BeautifulSoup(source, \"lxml\")\n",
    "for element in soup.find_all(\"div\", class_=\"thumbimage\"):\n",
    "    hyperlink = element.find('a').attrs['href']\n",
    "    print(\"https://en.wikipedia.org\"+hyperlink)"
   ]
  },
  {
   "cell_type": "code",
   "execution_count": null,
   "id": "d621361c",
   "metadata": {},
   "outputs": [],
   "source": []
  }
 ],
 "metadata": {
  "kernelspec": {
   "display_name": "Python 3 (ipykernel)",
   "language": "python",
   "name": "python3"
  },
  "language_info": {
   "codemirror_mode": {
    "name": "ipython",
    "version": 3
   },
   "file_extension": ".py",
   "mimetype": "text/x-python",
   "name": "python",
   "nbconvert_exporter": "python",
   "pygments_lexer": "ipython3",
   "version": "3.9.12"
  }
 },
 "nbformat": 4,
 "nbformat_minor": 5
}
