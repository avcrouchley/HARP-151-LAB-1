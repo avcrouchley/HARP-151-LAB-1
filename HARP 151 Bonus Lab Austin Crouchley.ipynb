{
 "cells": [
  {
   "cell_type": "code",
   "execution_count": 52,
   "id": "101eb32d",
   "metadata": {},
   "outputs": [],
   "source": [
    "import requests\n",
    "import json\n",
    "symbol = 'AAPL' #could use any stock\n",
    "API_key = \"MNf4FYejXMvnKDhtbomvXkTiVTSIB7Jy\""
   ]
  },
  {
   "cell_type": "code",
   "execution_count": 58,
   "id": "54866ccd",
   "metadata": {
    "scrolled": true
   },
   "outputs": [
    {
     "name": "stdout",
     "output_type": "stream",
     "text": [
      "{'ticker': 'AAPL', 'queryCount': 40, 'resultsCount': 40, 'adjusted': True, 'results': [{'v': 104677470.0, 'vw': 181.4156, 'o': 177.83, 'c': 182.01, 'h': 182.88, 'l': 177.71, 't': 1641186000000, 'n': 772691}, {'v': 99110438.0, 'vw': 180.5574, 'o': 182.63, 'c': 179.7, 'h': 182.94, 'l': 179.12, 't': 1641272400000, 'n': 831890}, {'v': 94535602.0, 'vw': 177.2884, 'o': 179.61, 'c': 174.92, 'h': 180.17, 'l': 174.64, 't': 1641358800000, 'n': 848513}, {'v': 96882954.0, 'vw': 173.08, 'o': 172.7, 'c': 172, 'h': 175.3, 'l': 171.64, 't': 1641445200000, 'n': 960340}, {'v': 86709147.0, 'vw': 172.4383, 'o': 172.89, 'c': 172.17, 'h': 174.14, 'l': 171.03, 't': 1641531600000, 'n': 716881}, {'v': 106754551.0, 'vw': 170.2886, 'o': 169.08, 'c': 172.19, 'h': 172.5, 'l': 168.17, 't': 1641790800000, 'n': 956337}, {'v': 76138312.0, 'vw': 173.6337, 'o': 172.32, 'c': 175.08, 'h': 175.18, 'l': 170.82, 't': 1641877200000, 'n': 649652}, {'v': 74805173.0, 'vw': 175.8343, 'o': 176.12, 'c': 175.53, 'h': 177.18, 'l': 174.82, 't': 1641963600000, 'n': 642756}, {'v': 84405760.0, 'vw': 173.9711, 'o': 175.78, 'c': 172.19, 'h': 176.62, 'l': 171.79, 't': 1642050000000, 'n': 692343}, {'v': 80440778.0, 'vw': 172.3612, 'o': 171.34, 'c': 173.07, 'h': 173.78, 'l': 171.09, 't': 1642136400000, 'n': 672552}, {'v': 91063979.0, 'vw': 170.5404, 'o': 171.51, 'c': 169.8, 'h': 172.54, 'l': 169.405, 't': 1642482000000, 'n': 780899}, {'v': 94814990.0, 'vw': 168.2999, 'o': 170, 'c': 166.23, 'h': 171.08, 'l': 165.94, 't': 1642568400000, 'n': 824022}, {'v': 91420515.0, 'vw': 167.0706, 'o': 166.98, 'c': 164.51, 'h': 169.68, 'l': 164.18, 't': 1642654800000, 'n': 795585}, {'v': 122824858.0, 'vw': 163.8807, 'o': 164.415, 'c': 162.41, 'h': 166.33, 'l': 162.3, 't': 1642741200000, 'n': 1079476}, {'v': 162706686.0, 'vw': 158.6897, 'o': 160.02, 'c': 161.62, 'h': 162.3, 'l': 154.7, 't': 1643000400000, 'n': 1632710}, {'v': 115777137.0, 'vw': 159.4274, 'o': 158.98, 'c': 159.78, 'h': 162.76, 'l': 157.02, 't': 1643086800000, 'n': 1008306}, {'v': 108275307.0, 'vw': 161.41, 'o': 163.5, 'c': 159.69, 'h': 164.3894, 'l': 157.82, 't': 1643173200000, 'n': 1017706}, {'v': 121954638.0, 'vw': 161.2969, 'o': 162.45, 'c': 159.22, 'h': 163.84, 'l': 158.28, 't': 1643259600000, 'n': 1161003}, {'v': 179435660.0, 'vw': 167.3083, 'o': 165.71, 'c': 170.33, 'h': 170.35, 'l': 162.8, 't': 1643346000000, 'n': 1518049}, {'v': 115522090.0, 'vw': 173.1568, 'o': 170.16, 'c': 174.78, 'h': 175, 'l': 169.51, 't': 1643605200000, 'n': 933480}, {'v': 85595911.0, 'vw': 173.7061, 'o': 174.01, 'c': 174.61, 'h': 174.84, 'l': 172.31, 't': 1643691600000, 'n': 735250}, {'v': 84914158.0, 'vw': 174.9413, 'o': 174.745, 'c': 175.84, 'h': 175.88, 'l': 173.33, 't': 1643778000000, 'n': 676308}, {'v': 89418074.0, 'vw': 174.3835, 'o': 174.48, 'c': 172.9, 'h': 176.2399, 'l': 172.12, 't': 1643864400000, 'n': 724838}, {'v': 82446700.0, 'vw': 172.3165, 'o': 171.68, 'c': 172.39, 'h': 174.1, 'l': 170.68, 't': 1643950800000, 'n': 702966}, {'v': 77251204.0, 'vw': 172.4426, 'o': 172.86, 'c': 171.66, 'h': 173.9458, 'l': 170.95, 't': 1644210000000, 'n': 571410}, {'v': 74829217.0, 'vw': 173.8127, 'o': 171.73, 'c': 174.83, 'h': 175.35, 'l': 171.43, 't': 1644296400000, 'n': 634268}, {'v': 71204538.0, 'vw': 175.8287, 'o': 176.05, 'c': 176.28, 'h': 176.65, 'l': 174.9, 't': 1644382800000, 'n': 573996}, {'v': 90715899.0, 'vw': 173.5408, 'o': 174.14, 'c': 172.12, 'h': 175.48, 'l': 171.55, 't': 1644469200000, 'n': 761963}, {'v': 98490687.0, 'vw': 170.1997, 'o': 172.33, 'c': 168.64, 'h': 173.08, 'l': 168.04, 't': 1644555600000, 'n': 815714}, {'v': 86185530.0, 'vw': 168.3917, 'o': 167.37, 'c': 168.88, 'h': 169.58, 'l': 166.56, 't': 1644814800000, 'n': 757491}, {'v': 64286317.0, 'vw': 171.6596, 'o': 170.97, 'c': 172.79, 'h': 172.95, 'l': 170.25, 't': 1644901200000, 'n': 562851}, {'v': 61139697.0, 'vw': 171.6489, 'o': 171.85, 'c': 172.55, 'h': 173.34, 'l': 170.05, 't': 1644987600000, 'n': 543032}, {'v': 69589344.0, 'vw': 170.1812, 'o': 171.03, 'c': 168.88, 'h': 171.91, 'l': 168.47, 't': 1645074000000, 'n': 584118}, {'v': 82772674.0, 'vw': 167.7969, 'o': 169.82, 'c': 167.3, 'h': 170.5413, 'l': 166.19, 't': 1645160400000, 'n': 687677}, {'v': 91148358.0, 'vw': 164.5551, 'o': 164.98, 'c': 164.32, 'h': 166.69, 'l': 162.15, 't': 1645506000000, 'n': 897217}, {'v': 90009247.0, 'vw': 162.1577, 'o': 165.54, 'c': 160.07, 'h': 166.15, 'l': 159.75, 't': 1645592400000, 'n': 820313}, {'v': 141147540.0, 'vw': 158.0144, 'o': 152.58, 'c': 162.74, 'h': 162.85, 'l': 152, 't': 1645678800000, 'n': 1383829}, {'v': 91974222.0, 'vw': 163.7895, 'o': 163.84, 'c': 164.85, 'h': 165.12, 'l': 160.8738, 't': 1645765200000, 'n': 812155}, {'v': 95056629.0, 'vw': 164.268, 'o': 163.06, 'c': 165.12, 'h': 165.42, 'l': 162.43, 't': 1646024400000, 'n': 791485}, {'v': 83468865.0, 'vw': 164.16, 'o': 164.695, 'c': 163.2, 'h': 166.6, 'l': 161.97, 't': 1646110800000, 'n': 749653}], 'status': 'OK', 'request_id': '25525b87604ec42274c650e8ba8318a0', 'count': 40}\n"
     ]
    }
   ],
   "source": [
    "url = f'https://api.polygon.io/v2/aggs/ticker/AAPL/range/1/day/2022-01-01/2022-03-01?apiKey=MNf4FYejXMvnKDhtbomvXkTiVTSIB7Jy'\n",
    "\n",
    "response = requests.get(url)\n",
    "data = response.json()\n",
    "\n",
    "print(data)"
   ]
  },
  {
   "cell_type": "code",
   "execution_count": 63,
   "id": "b1048e74",
   "metadata": {},
   "outputs": [
    {
     "name": "stdout",
     "output_type": "stream",
     "text": [
      "{'status': 'OK', 'from': '2022-03-24', 'symbol': 'AAPL', 'open': 171.06, 'high': 174.14, 'low': 170.21, 'close': 174.07, 'volume': 90131418.0, 'afterHours': 173.83, 'preMarket': 170.63}\n"
     ]
    }
   ],
   "source": [
    "symbol = 'AAPL'\n",
    "date = '2022-03-24'\n",
    "url = f'https://api.polygon.io/v1/open-close/AAPL/{date}?apiKey=MNf4FYejXMvnKDhtbomvXkTiVTSIB7Jy'\n",
    "\n",
    "response = requests.get(url)\n",
    "data = response.json()\n",
    "print(data)"
   ]
  },
  {
   "cell_type": "code",
   "execution_count": 56,
   "id": "975b4227",
   "metadata": {},
   "outputs": [
    {
     "name": "stdout",
     "output_type": "stream",
     "text": [
      "{'ticker': 'AAPL', 'queryCount': 40, 'resultsCount': 40, 'adjusted': True, 'results': [{'v': 83468865.0, 'vw': 164.16, 'o': 164.695, 'c': 163.2, 'h': 166.6, 'l': 161.97, 't': 1646110800000, 'n': 749653}, {'v': 95056629.0, 'vw': 164.268, 'o': 163.06, 'c': 165.12, 'h': 165.42, 'l': 162.43, 't': 1646024400000, 'n': 791485}, {'v': 91974222.0, 'vw': 163.7895, 'o': 163.84, 'c': 164.85, 'h': 165.12, 'l': 160.8738, 't': 1645765200000, 'n': 812155}, {'v': 141147540.0, 'vw': 158.0144, 'o': 152.58, 'c': 162.74, 'h': 162.85, 'l': 152, 't': 1645678800000, 'n': 1383829}, {'v': 90009247.0, 'vw': 162.1577, 'o': 165.54, 'c': 160.07, 'h': 166.15, 'l': 159.75, 't': 1645592400000, 'n': 820313}, {'v': 91148358.0, 'vw': 164.5551, 'o': 164.98, 'c': 164.32, 'h': 166.69, 'l': 162.15, 't': 1645506000000, 'n': 897217}, {'v': 82772674.0, 'vw': 167.7969, 'o': 169.82, 'c': 167.3, 'h': 170.5413, 'l': 166.19, 't': 1645160400000, 'n': 687677}, {'v': 69589344.0, 'vw': 170.1812, 'o': 171.03, 'c': 168.88, 'h': 171.91, 'l': 168.47, 't': 1645074000000, 'n': 584118}, {'v': 61139697.0, 'vw': 171.6489, 'o': 171.85, 'c': 172.55, 'h': 173.34, 'l': 170.05, 't': 1644987600000, 'n': 543032}, {'v': 64286317.0, 'vw': 171.6596, 'o': 170.97, 'c': 172.79, 'h': 172.95, 'l': 170.25, 't': 1644901200000, 'n': 562851}, {'v': 86185530.0, 'vw': 168.3917, 'o': 167.37, 'c': 168.88, 'h': 169.58, 'l': 166.56, 't': 1644814800000, 'n': 757491}, {'v': 98490687.0, 'vw': 170.1997, 'o': 172.33, 'c': 168.64, 'h': 173.08, 'l': 168.04, 't': 1644555600000, 'n': 815714}, {'v': 90715899.0, 'vw': 173.5408, 'o': 174.14, 'c': 172.12, 'h': 175.48, 'l': 171.55, 't': 1644469200000, 'n': 761963}, {'v': 71204538.0, 'vw': 175.8287, 'o': 176.05, 'c': 176.28, 'h': 176.65, 'l': 174.9, 't': 1644382800000, 'n': 573996}, {'v': 74829217.0, 'vw': 173.8127, 'o': 171.73, 'c': 174.83, 'h': 175.35, 'l': 171.43, 't': 1644296400000, 'n': 634268}, {'v': 77251204.0, 'vw': 172.4426, 'o': 172.86, 'c': 171.66, 'h': 173.9458, 'l': 170.95, 't': 1644210000000, 'n': 571410}, {'v': 82446700.0, 'vw': 172.3165, 'o': 171.68, 'c': 172.39, 'h': 174.1, 'l': 170.68, 't': 1643950800000, 'n': 702966}, {'v': 89418074.0, 'vw': 174.3835, 'o': 174.48, 'c': 172.9, 'h': 176.2399, 'l': 172.12, 't': 1643864400000, 'n': 724838}, {'v': 84914158.0, 'vw': 174.9413, 'o': 174.745, 'c': 175.84, 'h': 175.88, 'l': 173.33, 't': 1643778000000, 'n': 676308}, {'v': 85595911.0, 'vw': 173.7061, 'o': 174.01, 'c': 174.61, 'h': 174.84, 'l': 172.31, 't': 1643691600000, 'n': 735250}, {'v': 115522090.0, 'vw': 173.1568, 'o': 170.16, 'c': 174.78, 'h': 175, 'l': 169.51, 't': 1643605200000, 'n': 933480}, {'v': 179435660.0, 'vw': 167.3083, 'o': 165.71, 'c': 170.33, 'h': 170.35, 'l': 162.8, 't': 1643346000000, 'n': 1518049}, {'v': 121954638.0, 'vw': 161.2969, 'o': 162.45, 'c': 159.22, 'h': 163.84, 'l': 158.28, 't': 1643259600000, 'n': 1161003}, {'v': 108275307.0, 'vw': 161.41, 'o': 163.5, 'c': 159.69, 'h': 164.3894, 'l': 157.82, 't': 1643173200000, 'n': 1017706}, {'v': 115777137.0, 'vw': 159.4274, 'o': 158.98, 'c': 159.78, 'h': 162.76, 'l': 157.02, 't': 1643086800000, 'n': 1008306}, {'v': 162706686.0, 'vw': 158.6897, 'o': 160.02, 'c': 161.62, 'h': 162.3, 'l': 154.7, 't': 1643000400000, 'n': 1632710}, {'v': 122824858.0, 'vw': 163.8807, 'o': 164.415, 'c': 162.41, 'h': 166.33, 'l': 162.3, 't': 1642741200000, 'n': 1079476}, {'v': 91420515.0, 'vw': 167.0706, 'o': 166.98, 'c': 164.51, 'h': 169.68, 'l': 164.18, 't': 1642654800000, 'n': 795585}, {'v': 94814990.0, 'vw': 168.2999, 'o': 170, 'c': 166.23, 'h': 171.08, 'l': 165.94, 't': 1642568400000, 'n': 824022}, {'v': 91063979.0, 'vw': 170.5404, 'o': 171.51, 'c': 169.8, 'h': 172.54, 'l': 169.405, 't': 1642482000000, 'n': 780899}, {'v': 80440778.0, 'vw': 172.3612, 'o': 171.34, 'c': 173.07, 'h': 173.78, 'l': 171.09, 't': 1642136400000, 'n': 672552}, {'v': 84405760.0, 'vw': 173.9711, 'o': 175.78, 'c': 172.19, 'h': 176.62, 'l': 171.79, 't': 1642050000000, 'n': 692343}, {'v': 74805173.0, 'vw': 175.8343, 'o': 176.12, 'c': 175.53, 'h': 177.18, 'l': 174.82, 't': 1641963600000, 'n': 642756}, {'v': 76138312.0, 'vw': 173.6337, 'o': 172.32, 'c': 175.08, 'h': 175.18, 'l': 170.82, 't': 1641877200000, 'n': 649652}, {'v': 106754551.0, 'vw': 170.2886, 'o': 169.08, 'c': 172.19, 'h': 172.5, 'l': 168.17, 't': 1641790800000, 'n': 956337}, {'v': 86709147.0, 'vw': 172.4383, 'o': 172.89, 'c': 172.17, 'h': 174.14, 'l': 171.03, 't': 1641531600000, 'n': 716881}, {'v': 96882954.0, 'vw': 173.08, 'o': 172.7, 'c': 172, 'h': 175.3, 'l': 171.64, 't': 1641445200000, 'n': 960340}, {'v': 94535602.0, 'vw': 177.2884, 'o': 179.61, 'c': 174.92, 'h': 180.17, 'l': 174.64, 't': 1641358800000, 'n': 848513}, {'v': 99110438.0, 'vw': 180.5574, 'o': 182.63, 'c': 179.7, 'h': 182.94, 'l': 179.12, 't': 1641272400000, 'n': 831890}, {'v': 104677470.0, 'vw': 181.4156, 'o': 177.83, 'c': 182.01, 'h': 182.88, 'l': 177.71, 't': 1641186000000, 'n': 772691}], 'status': 'OK', 'request_id': 'c1deb2a117d69e1df4c3b90ea39a54db', 'count': 40}\n"
     ]
    }
   ],
   "source": [
    "url = f'https://api.polygon.io/v2/aggs/ticker/AAPL/range/1/day/2022-01-01/2022-03-01?apiKey=MNf4FYejXMvnKDhtbomvXkTiVTSIB7Jy'\n",
    "\n",
    "params = {\n",
    "    'limit': 100,\n",
    "    'sort': 'desc',\n",
    "    'timestamp': '2022-01-01T09:30:00',\n",
    "    'timestamp': '2022-03-01T16:00:00'\n",
    "}\n",
    "\n",
    "response = requests.get(url, params=params)\n",
    "data = response.json()\n",
    "print(data)\n"
   ]
  },
  {
   "cell_type": "code",
   "execution_count": 44,
   "id": "5b8adb6a",
   "metadata": {},
   "outputs": [
    {
     "name": "stdout",
     "output_type": "stream",
     "text": [
      "{'afterHours': True, 'currencies': {'crypto': 'open', 'fx': 'open'}, 'earlyHours': False, 'exchanges': {'nasdaq': 'extended-hours', 'nyse': 'extended-hours', 'otc': 'closed'}, 'indicesGroups': {'s_and_p': 'open', 'societe_generale': 'open', 'msci': 'open', 'ftse_russell': 'open', 'mstar': 'open', 'mstarc': 'open', 'cccy': 'open', 'nasdaq': 'closed', 'dow_jones': 'closed'}, 'market': 'extended-hours', 'serverTime': '2023-03-27T17:41:59-04:00'}\n"
     ]
    }
   ],
   "source": [
    "url = f'https://api.polygon.io/v1/marketstatus/now?apiKey=MNf4FYejXMvnKDhtbomvXkTiVTSIB7Jy'\n",
    "\n",
    "response = requests.get(url)\n",
    "data = response.json()\n",
    "print(data)\n"
   ]
  },
  {
   "cell_type": "code",
   "execution_count": 45,
   "id": "45188c0b",
   "metadata": {},
   "outputs": [
    {
     "name": "stdout",
     "output_type": "stream",
     "text": [
      "{'logo': 'https://s3.polygon.io/logos/aapl/logo.png', 'listdate': '1990-01-02', 'cik': '320193', 'bloomberg': 'EQ0010169500001000', 'figi': None, 'lei': 'HWUPKR0MPOU8FGXBT394', 'sic': 3571, 'country': 'usa', 'industry': 'Computer Hardware', 'sector': 'Technology', 'marketcap': 908316631180, 'employees': 123000, 'phone': '+1 408 996-1010', 'ceo': 'Timothy D. Cook', 'url': 'http://www.apple.com', 'description': 'Apple Inc is designs, manufactures and markets mobile communication and media devices and personal computers, and sells a variety of related software, services, accessories, networking solutions and third-party digital content and applications.', 'exchange': 'Nasdaq Global Select', 'name': 'Apple Inc.', 'symbol': 'AAPL', 'exchangeSymbol': 'NGS', 'hq_address': '1 Infinite Loop Cupertino CA, 95014', 'hq_state': 'CA', 'hq_country': 'USA', 'type': 'CS', 'updated': '11/16/2018', 'tags': ['Technology', 'Consumer Electronics', 'Computer Hardware'], 'similar': ['MSFT', 'NOK', 'IBM', 'HPQ', 'GOOGL', 'BB', 'XLK'], 'active': True}\n"
     ]
    }
   ],
   "source": [
    "url = f'https://api.polygon.io/v1/meta/symbols/AAPL/company?apiKey=MNf4FYejXMvnKDhtbomvXkTiVTSIB7Jy'\n",
    "\n",
    "response = requests.get(url)\n",
    "data = response.json()\n",
    "print(data)\n"
   ]
  },
  {
   "cell_type": "code",
   "execution_count": 70,
   "id": "e3065ff3",
   "metadata": {},
   "outputs": [
    {
     "name": "stdout",
     "output_type": "stream",
     "text": [
      "The Market is closed or this data is not available in your payment plan\n"
     ]
    }
   ],
   "source": [
    "#can switch the symbol for any stock you want, I am using Apple in these examples\n",
    "\n",
    "url = f'https://api.polygon.io/v1/last/stocks/AAPL?apiKey=MNf4FYejXMvnKDhtbomvXkTiVTSIB7Jy'\n",
    "\n",
    "response = requests.get(url)\n",
    "data = response.json()\n",
    "\n",
    "if 'last' in data:\n",
    "    price = data['last']['price']\n",
    "    print(f'The current price of Apple is {price}')\n",
    "else:\n",
    "    print(\"The Market is closed or this data is not available in your payment plan\")\n",
    "\n"
   ]
  },
  {
   "cell_type": "code",
   "execution_count": null,
   "id": "7c94b935",
   "metadata": {},
   "outputs": [],
   "source": [
    "#This data provides almost everything someone would want to know about stocks. Using this API data there might be a way\n",
    "#to create a program that knows when to buy and sell stocks for the highest probability of profit. I am not sure how you\n",
    "#would encorporate probability into the code. Perhaps there is a way to import a very strong math engine. Either way,\n",
    "#there is certainly a high potential reward if someone was to figure out how to harness the powers of this python API to\n",
    "#its full extent."
   ]
  }
 ],
 "metadata": {
  "kernelspec": {
   "display_name": "Python 3 (ipykernel)",
   "language": "python",
   "name": "python3"
  },
  "language_info": {
   "codemirror_mode": {
    "name": "ipython",
    "version": 3
   },
   "file_extension": ".py",
   "mimetype": "text/x-python",
   "name": "python",
   "nbconvert_exporter": "python",
   "pygments_lexer": "ipython3",
   "version": "3.9.12"
  }
 },
 "nbformat": 4,
 "nbformat_minor": 5
}
