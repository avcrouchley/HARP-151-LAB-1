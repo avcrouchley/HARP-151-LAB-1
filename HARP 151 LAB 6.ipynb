{
 "cells": [
  {
   "cell_type": "code",
   "execution_count": 12,
   "id": "cc1147c5",
   "metadata": {},
   "outputs": [
    {
     "name": "stdout",
     "output_type": "stream",
     "text": [
      "Success\n"
     ]
    }
   ],
   "source": [
    "from selenium import webdriver\n",
    "from selenium.webdriver.common.keys import Keys\n",
    "from selenium.webdriver.common.by import By\n",
    "from selenium.webdriver.support.ui import WebDriverWait\n",
    "from selenium.webdriver.support import expected_conditions as EC\n",
    "from selenium.webdriver.chrome.service import Service\n",
    "from selenium.webdriver.common.action_chains import ActionChains\n",
    "from bs4 import BeautifulSoup\n",
    "import requests\n",
    "import html5lib\n",
    "import csv\n",
    "import pandas as pd\n",
    "\n",
    "PATH = Service(\"/Users/austincrouchley/Documents/HARP 151 LAB 6/chromedriver.exe\")\n",
    "driver = webdriver.Chrome(service=PATH)\n",
    "\n",
    "site = \"https://www.binghamton-ny.gov/home\"\n",
    "driver.get(site)\n",
    "government = driver.find_element(By.XPATH,\"//*[@id='dropdownrootitem3']/a\" )\n",
    "dept = driver.find_element(By.XPATH,\"//*[@id='dropdownrootitem3']/div/div/ul[1]/li/a\")\n",
    "\n",
    "actions = ActionChains(driver)\n",
    "actions.move_to_element(government)\n",
    "actions.click(government)\n",
    "actions.click(dept)\n",
    "actions.perform()\n",
    "try:\n",
    "    WebDriverWait(driver, 10).until(EC.element_to_be_clickable((By.XPATH, \"//*[@id='widget_4_33_127']/ul/li[16]/a\"))).click()\n",
    "    WebDriverWait(driver, 10).until(EC.element_to_be_clickable((By.XPATH, \"//*[@id='leftNav_1038_0_145']/ul/li/ul/li[14]/ul/li/a\"))).click()\n",
    "finally:\n",
    "    print(\"Success\")"
   ]
  },
  {
   "cell_type": "code",
   "execution_count": 11,
   "id": "2bafa5db",
   "metadata": {},
   "outputs": [
    {
     "name": "stdout",
     "output_type": "stream",
     "text": [
      "JOB TYPE APPLICATION DEADLINE SALARY\n",
      "Animal Control Officer Full Time Open Until Filled $45,228.00 per Year\n",
      "Assistant Engineer Full Time Open Until Filled $38,127 - $45,062 per Year\n",
      "Building Inspector II Full Time Open Until Filled $42,436 per Year\n",
      "City Engineer Full Time Open Until Filled Not Specified\n",
      "Code Inspector Full Time Open Until Filled $33,632 per Year*\n",
      "Commissioner of Public Works Full Time Open Until Filled Not Specified\n",
      "Crossing Guard Part Time Open Until Filled $43.75 per Day\n",
      "Director of Police Department Community Outreach and Recruitment Full Time Open Until Filled $66,950.00 per Year\n",
      "First Deputy Commissioner of Public Works Full Time Open Until Filled $61,730.00 per Year\n",
      "Laboratory Technician (Sanitary Services) Full Time Open Until Filled $29,406.00 per Year\n",
      "Staff Accountant Full Time Open Until Filled Up to $59,000 per Year\n",
      "Street Maintainer Full Time Open Until Filled $18.36 Per Hour\n",
      "Water & Sewer Systems Maintainer Full Time Open Until Filled $20.71 per Hour\n",
      "Water Meter Repairer Full Time Open Until Filled $19.11 per Hour\n"
     ]
    }
   ],
   "source": [
    "PATH = Service(\"/Users/austincrouchley/Documents/HARP 151 LAB 6/chromedriver.exe\")\n",
    "driver = webdriver.Chrome(service=PATH)\n",
    "\n",
    "site = \"https://www.binghamton-ny.gov/home\"\n",
    "driver.get(site)\n",
    "government = driver.find_element(By.XPATH,\"//*[@id='dropdownrootitem3']/a\" )\n",
    "dept = driver.find_element(By.XPATH,\"//*[@id='dropdownrootitem3']/div/div/ul[1]/li/a\")\n",
    "\n",
    "actions = ActionChains(driver)\n",
    "actions.move_to_element(government)\n",
    "actions.click(government)\n",
    "actions.click(dept)\n",
    "actions.perform()\n",
    "\n",
    "driver.find_element(By.XPATH, \"//*[@id='widget_4_33_127']/ul/li[16]/a\").click()\n",
    "driver.find_element(By.XPATH, \"//*[@id='leftNav_1038_0_145']/ul/li/ul/li[14]/ul/li/a\").click()\n",
    "table = driver.find_element(By.XPATH, \"//*[@id='ColumnUserControl4']/div[2]\")\n",
    "\n",
    "print(table.text)"
   ]
  },
  {
   "cell_type": "code",
   "execution_count": null,
   "id": "ceaa6e55",
   "metadata": {},
   "outputs": [],
   "source": []
  }
 ],
 "metadata": {
  "kernelspec": {
   "display_name": "Python 3 (ipykernel)",
   "language": "python",
   "name": "python3"
  },
  "language_info": {
   "codemirror_mode": {
    "name": "ipython",
    "version": 3
   },
   "file_extension": ".py",
   "mimetype": "text/x-python",
   "name": "python",
   "nbconvert_exporter": "python",
   "pygments_lexer": "ipython3",
   "version": "3.9.12"
  }
 },
 "nbformat": 4,
 "nbformat_minor": 5
}
